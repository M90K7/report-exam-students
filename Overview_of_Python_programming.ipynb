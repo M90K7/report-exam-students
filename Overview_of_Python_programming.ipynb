{
  "cells": [
    {
      "cell_type": "markdown",
      "id": "ca9c5d6f",
      "metadata": {
        "id": "ca9c5d6f"
      },
      "source": [
        "# Artificial intelligence lab class"
      ]
    },
    {
      "cell_type": "code",
      "execution_count": null,
      "id": "a1084981",
      "metadata": {
        "colab": {
          "base_uri": "https://localhost:8080/",
          "height": 35
        },
        "id": "a1084981",
        "outputId": "9dbe0537-74a9-471a-8083-1bdbc9ab9c5b"
      },
      "outputs": [
        {
          "output_type": "execute_result",
          "data": {
            "text/plain": [
              "'this is us'"
            ],
            "application/vnd.google.colaboratory.intrinsic+json": {
              "type": "string"
            }
          },
          "metadata": {},
          "execution_count": 1
        }
      ],
      "source": [
        "newstring='this is us'\n",
        "newstring"
      ]
    },
    {
      "cell_type": "code",
      "execution_count": null,
      "id": "141c986d",
      "metadata": {
        "colab": {
          "base_uri": "https://localhost:8080/"
        },
        "id": "141c986d",
        "outputId": "bb624a69-27ca-431e-c6a5-5ddbb8837dcc"
      },
      "outputs": [
        {
          "output_type": "execute_result",
          "data": {
            "text/plain": [
              "str"
            ]
          },
          "metadata": {},
          "execution_count": 2
        }
      ],
      "source": [
        "type(newstring)"
      ]
    },
    {
      "cell_type": "code",
      "execution_count": null,
      "id": "e0a23eff",
      "metadata": {
        "colab": {
          "base_uri": "https://localhost:8080/"
        },
        "id": "e0a23eff",
        "outputId": "2ea2d161-68e3-473d-b8f7-4f7f2140ec67"
      },
      "outputs": [
        {
          "output_type": "execute_result",
          "data": {
            "text/plain": [
              "139259406591600"
            ]
          },
          "metadata": {},
          "execution_count": 3
        }
      ],
      "source": [
        "id(newstring)"
      ]
    },
    {
      "cell_type": "code",
      "execution_count": null,
      "id": "1d2029ea",
      "metadata": {
        "colab": {
          "base_uri": "https://localhost:8080/"
        },
        "id": "1d2029ea",
        "outputId": "88c1beb7-624a-4ce1-c8d3-4eca32a408c1"
      },
      "outputs": [
        {
          "output_type": "execute_result",
          "data": {
            "text/plain": [
              "246"
            ]
          },
          "metadata": {},
          "execution_count": 4
        }
      ],
      "source": [
        "num=123\n",
        "num*2"
      ]
    },
    {
      "cell_type": "code",
      "execution_count": null,
      "id": "4b624d84",
      "metadata": {
        "colab": {
          "base_uri": "https://localhost:8080/"
        },
        "id": "4b624d84",
        "outputId": "ce34b23a-067b-41d4-bedb-10bb40546cf5"
      },
      "outputs": [
        {
          "output_type": "execute_result",
          "data": {
            "text/plain": [
              "15129"
            ]
          },
          "metadata": {},
          "execution_count": 5
        }
      ],
      "source": [
        "num**2"
      ]
    },
    {
      "cell_type": "code",
      "execution_count": null,
      "id": "8c5bfd9a",
      "metadata": {
        "colab": {
          "base_uri": "https://localhost:8080/"
        },
        "id": "8c5bfd9a",
        "outputId": "c7246dbc-b7c5-4473-855a-c97ab228f0aa"
      },
      "outputs": [
        {
          "output_type": "execute_result",
          "data": {
            "text/plain": [
              "4.1"
            ]
          },
          "metadata": {},
          "execution_count": 6
        }
      ],
      "source": [
        "1.5+2.6"
      ]
    },
    {
      "cell_type": "code",
      "execution_count": null,
      "id": "706b5ebb",
      "metadata": {
        "colab": {
          "base_uri": "https://localhost:8080/"
        },
        "id": "706b5ebb",
        "outputId": "e28fe14a-c404-4eb1-d49d-9007f1d121d8"
      },
      "outputs": [
        {
          "output_type": "execute_result",
          "data": {
            "text/plain": [
              "1500.0"
            ]
          },
          "metadata": {},
          "execution_count": 7
        }
      ],
      "source": [
        "1.5e3"
      ]
    },
    {
      "cell_type": "code",
      "execution_count": null,
      "id": "6b9c722b",
      "metadata": {
        "colab": {
          "base_uri": "https://localhost:8080/"
        },
        "id": "6b9c722b",
        "outputId": "4d6a9ec2-0e8e-497d-e576-4a4f21986a07"
      },
      "outputs": [
        {
          "output_type": "execute_result",
          "data": {
            "text/plain": [
              "1500.0"
            ]
          },
          "metadata": {},
          "execution_count": 8
        }
      ],
      "source": [
        "1.5*1000"
      ]
    },
    {
      "cell_type": "code",
      "execution_count": null,
      "id": "f1955a01",
      "metadata": {
        "colab": {
          "base_uri": "https://localhost:8080/"
        },
        "id": "f1955a01",
        "outputId": "85ad5983-7e6f-45ab-d9c7-0209b411ab16"
      },
      "outputs": [
        {
          "output_type": "execute_result",
          "data": {
            "text/plain": [
              "(5+7j)"
            ]
          },
          "metadata": {},
          "execution_count": 9
        }
      ],
      "source": [
        "cnum=5+7j\n",
        "cnum"
      ]
    },
    {
      "cell_type": "code",
      "execution_count": null,
      "id": "11228874",
      "metadata": {
        "colab": {
          "base_uri": "https://localhost:8080/"
        },
        "id": "11228874",
        "outputId": "2969ec89-db6d-4a98-80a8-a297566a1a80"
      },
      "outputs": [
        {
          "output_type": "execute_result",
          "data": {
            "text/plain": [
              "complex"
            ]
          },
          "metadata": {},
          "execution_count": 10
        }
      ],
      "source": [
        "type(cnum)"
      ]
    },
    {
      "cell_type": "code",
      "execution_count": null,
      "id": "801e4aab",
      "metadata": {
        "colab": {
          "base_uri": "https://localhost:8080/"
        },
        "id": "801e4aab",
        "outputId": "91bd76b6-4b4d-40bb-e6cc-766b7aa34cb4"
      },
      "outputs": [
        {
          "output_type": "execute_result",
          "data": {
            "text/plain": [
              "5.0"
            ]
          },
          "metadata": {},
          "execution_count": 11
        }
      ],
      "source": [
        "cnum.real"
      ]
    },
    {
      "cell_type": "code",
      "execution_count": null,
      "id": "ff606f21",
      "metadata": {
        "colab": {
          "base_uri": "https://localhost:8080/"
        },
        "id": "ff606f21",
        "outputId": "807d8b4b-931b-417c-f0c2-d29830b2b793"
      },
      "outputs": [
        {
          "output_type": "execute_result",
          "data": {
            "text/plain": [
              "7.0"
            ]
          },
          "metadata": {},
          "execution_count": 12
        }
      ],
      "source": [
        "cnum.imag"
      ]
    },
    {
      "cell_type": "code",
      "execution_count": null,
      "id": "1fa69827",
      "metadata": {
        "colab": {
          "base_uri": "https://localhost:8080/"
        },
        "id": "1fa69827",
        "outputId": "9f6a0cf4-4485-4753-b137-72940a30aab0"
      },
      "outputs": [
        {
          "output_type": "execute_result",
          "data": {
            "text/plain": [
              "(6+6.5j)"
            ]
          },
          "metadata": {},
          "execution_count": 13
        }
      ],
      "source": [
        "cnum+(1-0.5j)"
      ]
    },
    {
      "cell_type": "code",
      "execution_count": null,
      "id": "a3c695c3",
      "metadata": {
        "colab": {
          "base_uri": "https://localhost:8080/"
        },
        "id": "a3c695c3",
        "outputId": "7fd0fb8d-a577-4119-c289-c0836d9653fe"
      },
      "outputs": [
        {
          "output_type": "stream",
          "name": "stdout",
          "text": [
            "this is us\n",
            "this \n",
            " us\n"
          ]
        }
      ],
      "source": [
        "s1='this'\n",
        "s2='is'\n",
        "s3='us'\n",
        "print(s1,s2,s3)\n",
        "print(s1,'\\n',s3)"
      ]
    },
    {
      "cell_type": "markdown",
      "id": "19065f19",
      "metadata": {
        "id": "19065f19"
      },
      "source": [
        "# list"
      ]
    },
    {
      "cell_type": "code",
      "execution_count": null,
      "id": "42b6d237",
      "metadata": {
        "id": "42b6d237"
      },
      "outputs": [],
      "source": [
        "l1=['egg','flour','butter']\n",
        "l2=list([1,'drink',10,'water',8.4])\n",
        "l3=[1,2,3,['a','b','c'],['hello','python']]"
      ]
    },
    {
      "cell_type": "code",
      "execution_count": null,
      "id": "e422fb55",
      "metadata": {
        "colab": {
          "base_uri": "https://localhost:8080/",
          "height": 35
        },
        "id": "e422fb55",
        "outputId": "14623b51-526d-4a4f-eacd-296adc670d22"
      },
      "outputs": [
        {
          "output_type": "execute_result",
          "data": {
            "text/plain": [
              "'egg'"
            ],
            "application/vnd.google.colaboratory.intrinsic+json": {
              "type": "string"
            }
          },
          "metadata": {},
          "execution_count": 16
        }
      ],
      "source": [
        "l1[0]"
      ]
    },
    {
      "cell_type": "code",
      "execution_count": null,
      "id": "dfba0aaa",
      "metadata": {
        "colab": {
          "base_uri": "https://localhost:8080/"
        },
        "id": "dfba0aaa",
        "outputId": "b5cf33e9-2e75-4e8d-e99f-cf9bd5663641"
      },
      "outputs": [
        {
          "output_type": "execute_result",
          "data": {
            "text/plain": [
              "['drink', 10, 'water']"
            ]
          },
          "metadata": {},
          "execution_count": 19
        }
      ],
      "source": [
        "l2[1:4]"
      ]
    },
    {
      "cell_type": "code",
      "execution_count": null,
      "id": "b4119b25",
      "metadata": {
        "id": "b4119b25"
      },
      "outputs": [],
      "source": [
        "numbers=range(10)"
      ]
    },
    {
      "cell_type": "code",
      "execution_count": null,
      "id": "4361082b",
      "metadata": {
        "colab": {
          "base_uri": "https://localhost:8080/"
        },
        "id": "4361082b",
        "outputId": "cf063e30-c3fb-4aae-fed3-820b1d96381f"
      },
      "outputs": [
        {
          "output_type": "execute_result",
          "data": {
            "text/plain": [
              "range(0, 10)"
            ]
          },
          "metadata": {},
          "execution_count": 24
        }
      ],
      "source": [
        "numbers"
      ]
    },
    {
      "cell_type": "code",
      "execution_count": null,
      "id": "bde4ee87",
      "metadata": {
        "colab": {
          "base_uri": "https://localhost:8080/"
        },
        "id": "bde4ee87",
        "outputId": "22f508ee-5423-4431-ae95-c1bab817dd2f"
      },
      "outputs": [
        {
          "output_type": "execute_result",
          "data": {
            "text/plain": [
              "range(2, 6)"
            ]
          },
          "metadata": {},
          "execution_count": 27
        }
      ],
      "source": [
        "numbers[2:6]"
      ]
    },
    {
      "cell_type": "code",
      "execution_count": null,
      "id": "06a6a2a1",
      "metadata": {
        "colab": {
          "base_uri": "https://localhost:8080/"
        },
        "id": "06a6a2a1",
        "outputId": "67b897c9-5259-4179-939c-a7293c244381"
      },
      "outputs": [
        {
          "output_type": "execute_result",
          "data": {
            "text/plain": [
              "range(0, 10)"
            ]
          },
          "metadata": {},
          "execution_count": 28
        }
      ],
      "source": [
        "numbers[:]"
      ]
    },
    {
      "cell_type": "code",
      "execution_count": null,
      "id": "cc4268e6",
      "metadata": {
        "colab": {
          "base_uri": "https://localhost:8080/"
        },
        "id": "cc4268e6",
        "outputId": "44617549-c62e-4f55-f53b-a6cc36189422"
      },
      "outputs": [
        {
          "output_type": "execute_result",
          "data": {
            "text/plain": [
              "[1, 2, 3, ['a', 'b', 'c'], ['hello', 'python'], 'hello python']"
            ]
          },
          "metadata": {},
          "execution_count": 29
        }
      ],
      "source": [
        "l3.append(' '.join(l3[4]))\n",
        "l3"
      ]
    },
    {
      "cell_type": "code",
      "execution_count": null,
      "id": "bd41e57c",
      "metadata": {
        "colab": {
          "base_uri": "https://localhost:8080/"
        },
        "id": "bd41e57c",
        "outputId": "184d0e3a-9d7d-4d36-fd6e-fd3416cf4e4b"
      },
      "outputs": [
        {
          "output_type": "execute_result",
          "data": {
            "text/plain": [
              "['a', 'b', 'c']"
            ]
          },
          "metadata": {},
          "execution_count": 30
        }
      ],
      "source": [
        "l3[3]"
      ]
    },
    {
      "cell_type": "code",
      "execution_count": null,
      "id": "811f3736",
      "metadata": {
        "colab": {
          "base_uri": "https://localhost:8080/"
        },
        "id": "811f3736",
        "outputId": "83c7d9b6-0730-4ad8-b4da-05a516bcc0e9"
      },
      "outputs": [
        {
          "output_type": "execute_result",
          "data": {
            "text/plain": [
              "['a', 'b', 'c']"
            ]
          },
          "metadata": {},
          "execution_count": 31
        }
      ],
      "source": [
        "l3.pop(3)"
      ]
    },
    {
      "cell_type": "code",
      "execution_count": null,
      "id": "9a4cc446",
      "metadata": {
        "colab": {
          "base_uri": "https://localhost:8080/"
        },
        "id": "9a4cc446",
        "outputId": "2387382a-4ac1-4363-92fe-f2f08eb4fbbb"
      },
      "outputs": [
        {
          "output_type": "execute_result",
          "data": {
            "text/plain": [
              "[1, 2, 3, ['hello', 'python'], 'hello python']"
            ]
          },
          "metadata": {},
          "execution_count": 32
        }
      ],
      "source": [
        "l3"
      ]
    },
    {
      "cell_type": "markdown",
      "id": "6f3384b0",
      "metadata": {
        "id": "6f3384b0"
      },
      "source": [
        "# set"
      ]
    },
    {
      "cell_type": "code",
      "execution_count": null,
      "id": "865b3d9e",
      "metadata": {
        "id": "865b3d9e"
      },
      "outputs": [],
      "source": [
        "l1=[1,2,3,4,5,6,7,8]\n",
        "s1=set(l1)"
      ]
    },
    {
      "cell_type": "code",
      "execution_count": null,
      "id": "8aa410f6",
      "metadata": {
        "colab": {
          "base_uri": "https://localhost:8080/"
        },
        "id": "8aa410f6",
        "outputId": "e000d7c3-fd77-45eb-9697-b2c08a6ae797"
      },
      "outputs": [
        {
          "output_type": "execute_result",
          "data": {
            "text/plain": [
              "{1, 2, 3, 4, 5, 6, 7, 8}"
            ]
          },
          "metadata": {},
          "execution_count": 35
        }
      ],
      "source": [
        "s1"
      ]
    },
    {
      "cell_type": "code",
      "execution_count": null,
      "id": "d63f3f30",
      "metadata": {
        "colab": {
          "base_uri": "https://localhost:8080/"
        },
        "id": "d63f3f30",
        "outputId": "4ce320b8-448d-4861-ffe0-73567362f918"
      },
      "outputs": [
        {
          "output_type": "execute_result",
          "data": {
            "text/plain": [
              "True"
            ]
          },
          "metadata": {},
          "execution_count": 36
        }
      ],
      "source": [
        "1 in set(s1)"
      ]
    },
    {
      "cell_type": "code",
      "execution_count": null,
      "id": "d085fc68",
      "metadata": {
        "colab": {
          "base_uri": "https://localhost:8080/"
        },
        "id": "d085fc68",
        "outputId": "a60a9642-81ec-4d7c-c6d1-b833f80da064"
      },
      "outputs": [
        {
          "output_type": "execute_result",
          "data": {
            "text/plain": [
              "False"
            ]
          },
          "metadata": {},
          "execution_count": 37
        }
      ],
      "source": [
        "100 in set(s1)"
      ]
    },
    {
      "cell_type": "code",
      "execution_count": null,
      "id": "3e283967",
      "metadata": {
        "id": "3e283967"
      },
      "outputs": [],
      "source": [
        "s2={5,7,12}"
      ]
    },
    {
      "cell_type": "code",
      "execution_count": null,
      "id": "e1736328",
      "metadata": {
        "colab": {
          "base_uri": "https://localhost:8080/"
        },
        "id": "e1736328",
        "outputId": "04832508-9e26-463e-c681-2135e51db6c0"
      },
      "outputs": [
        {
          "output_type": "execute_result",
          "data": {
            "text/plain": [
              "{1, 2, 3, 4, 6, 8}"
            ]
          },
          "metadata": {},
          "execution_count": 39
        }
      ],
      "source": [
        "s1-s2"
      ]
    },
    {
      "cell_type": "code",
      "execution_count": null,
      "id": "a3f2fe71",
      "metadata": {
        "colab": {
          "base_uri": "https://localhost:8080/"
        },
        "id": "a3f2fe71",
        "outputId": "8655c84e-6216-412a-8a2c-75bc9f958c79"
      },
      "outputs": [
        {
          "output_type": "execute_result",
          "data": {
            "text/plain": [
              "{1, 2, 3, 4, 5, 6, 7, 8, 12}"
            ]
          },
          "metadata": {},
          "execution_count": 40
        }
      ],
      "source": [
        "s1|s2"
      ]
    },
    {
      "cell_type": "code",
      "execution_count": null,
      "id": "bb1feca2",
      "metadata": {
        "colab": {
          "base_uri": "https://localhost:8080/"
        },
        "id": "bb1feca2",
        "outputId": "6142d50d-128c-4af8-a4ea-e2ab894fece4"
      },
      "outputs": [
        {
          "output_type": "execute_result",
          "data": {
            "text/plain": [
              "{5, 7}"
            ]
          },
          "metadata": {},
          "execution_count": 41
        }
      ],
      "source": [
        "s1&s2"
      ]
    },
    {
      "cell_type": "code",
      "execution_count": null,
      "id": "ffcfc863",
      "metadata": {
        "colab": {
          "base_uri": "https://localhost:8080/"
        },
        "id": "ffcfc863",
        "outputId": "48a0a55a-b0d2-4191-cd73-da837ae2394a"
      },
      "outputs": [
        {
          "output_type": "execute_result",
          "data": {
            "text/plain": [
              "{1, 2, 3, 4, 6, 8, 12}"
            ]
          },
          "metadata": {},
          "execution_count": 42
        }
      ],
      "source": [
        "s1^s2"
      ]
    },
    {
      "cell_type": "markdown",
      "id": "3cc2366c",
      "metadata": {
        "id": "3cc2366c"
      },
      "source": [
        "# Dictionary"
      ]
    },
    {
      "cell_type": "code",
      "execution_count": 43,
      "id": "d26ecfaa",
      "metadata": {
        "id": "d26ecfaa"
      },
      "outputs": [],
      "source": [
        "d1={'eggs':2,'milk':3,'spam':10,'ham':15}"
      ]
    },
    {
      "cell_type": "code",
      "execution_count": 44,
      "id": "9675f7ce",
      "metadata": {
        "id": "9675f7ce",
        "outputId": "6c54394c-647a-4d3e-9fb1-ff0d962a6bd3",
        "colab": {
          "base_uri": "https://localhost:8080/"
        }
      },
      "outputs": [
        {
          "output_type": "execute_result",
          "data": {
            "text/plain": [
              "2"
            ]
          },
          "metadata": {},
          "execution_count": 44
        }
      ],
      "source": [
        "d1.get('eggs')"
      ]
    },
    {
      "cell_type": "code",
      "execution_count": 45,
      "id": "72e806f1",
      "metadata": {
        "id": "72e806f1",
        "outputId": "c6089c6f-3443-42e2-8272-042bcb743d99",
        "colab": {
          "base_uri": "https://localhost:8080/"
        }
      },
      "outputs": [
        {
          "output_type": "execute_result",
          "data": {
            "text/plain": [
              "2"
            ]
          },
          "metadata": {},
          "execution_count": 45
        }
      ],
      "source": [
        "d1['eggs']"
      ]
    },
    {
      "cell_type": "code",
      "execution_count": 46,
      "id": "69d2b1b0",
      "metadata": {
        "id": "69d2b1b0"
      },
      "outputs": [],
      "source": [
        "d1['orange']=25"
      ]
    },
    {
      "cell_type": "code",
      "execution_count": 47,
      "id": "06e072fe",
      "metadata": {
        "id": "06e072fe",
        "outputId": "71f77b2a-d0d9-4a26-c390-d9486394912b",
        "colab": {
          "base_uri": "https://localhost:8080/"
        }
      },
      "outputs": [
        {
          "output_type": "execute_result",
          "data": {
            "text/plain": [
              "dict_keys(['eggs', 'milk', 'spam', 'ham', 'orange'])"
            ]
          },
          "metadata": {},
          "execution_count": 47
        }
      ],
      "source": [
        "d1.keys()"
      ]
    },
    {
      "cell_type": "code",
      "execution_count": 48,
      "id": "31b9a895",
      "metadata": {
        "id": "31b9a895",
        "outputId": "6f89feaf-2786-4e2d-9c3d-10db2f21a2fb",
        "colab": {
          "base_uri": "https://localhost:8080/"
        }
      },
      "outputs": [
        {
          "output_type": "execute_result",
          "data": {
            "text/plain": [
              "dict_values([2, 3, 10, 15, 25])"
            ]
          },
          "metadata": {},
          "execution_count": 48
        }
      ],
      "source": [
        "d1.values()"
      ]
    },
    {
      "cell_type": "code",
      "execution_count": 49,
      "id": "8ff1609e",
      "metadata": {
        "id": "8ff1609e"
      },
      "outputs": [],
      "source": [
        "d2=dict({'orange':5,'melon':17,'milk':10})"
      ]
    },
    {
      "cell_type": "code",
      "execution_count": 50,
      "id": "f3a34765",
      "metadata": {
        "id": "f3a34765"
      },
      "outputs": [],
      "source": [
        "d1.update(d2)"
      ]
    },
    {
      "cell_type": "code",
      "execution_count": 51,
      "id": "e7fd49e4",
      "metadata": {
        "id": "e7fd49e4",
        "outputId": "bcfe0b61-256a-4bfe-f3dc-3135fde0645c",
        "colab": {
          "base_uri": "https://localhost:8080/"
        }
      },
      "outputs": [
        {
          "output_type": "execute_result",
          "data": {
            "text/plain": [
              "{'eggs': 2, 'milk': 10, 'spam': 10, 'ham': 15, 'orange': 5, 'melon': 17}"
            ]
          },
          "metadata": {},
          "execution_count": 51
        }
      ],
      "source": [
        "d1"
      ]
    },
    {
      "cell_type": "code",
      "execution_count": 52,
      "id": "8187ae0a",
      "metadata": {
        "id": "8187ae0a"
      },
      "outputs": [],
      "source": [
        "d3={'k1':5,'k2':[1,2,3,4,5],'k3':{'a':1,'b':2,'c':[1,2,3]}}"
      ]
    },
    {
      "cell_type": "code",
      "execution_count": 53,
      "id": "a1afed1d",
      "metadata": {
        "id": "a1afed1d",
        "outputId": "85e1429a-80c1-47d2-d38c-e70bab1755ca",
        "colab": {
          "base_uri": "https://localhost:8080/"
        }
      },
      "outputs": [
        {
          "output_type": "execute_result",
          "data": {
            "text/plain": [
              "{'k1': 5, 'k2': [1, 2, 3, 4, 5], 'k3': {'a': 1, 'b': 2, 'c': [1, 2, 3]}}"
            ]
          },
          "metadata": {},
          "execution_count": 53
        }
      ],
      "source": [
        "d3"
      ]
    },
    {
      "cell_type": "code",
      "execution_count": 54,
      "id": "f5c2e06b",
      "metadata": {
        "id": "f5c2e06b"
      },
      "outputs": [],
      "source": [
        "d3.get('K3')"
      ]
    },
    {
      "cell_type": "code",
      "execution_count": 55,
      "id": "e7391845",
      "metadata": {
        "id": "e7391845",
        "outputId": "ec9c7f54-fae8-4a78-c659-475214dbc97a",
        "colab": {
          "base_uri": "https://localhost:8080/"
        }
      },
      "outputs": [
        {
          "output_type": "execute_result",
          "data": {
            "text/plain": [
              "[1, 2, 3]"
            ]
          },
          "metadata": {},
          "execution_count": 55
        }
      ],
      "source": [
        "d3.get('k3').get('c')"
      ]
    },
    {
      "cell_type": "code",
      "execution_count": 56,
      "id": "ae0fa76e",
      "metadata": {
        "id": "ae0fa76e",
        "outputId": "3deddfe2-e42b-4d56-d132-c0d1e16d239c",
        "colab": {
          "base_uri": "https://localhost:8080/"
        }
      },
      "outputs": [
        {
          "output_type": "execute_result",
          "data": {
            "text/plain": [
              "(1,)"
            ]
          },
          "metadata": {},
          "execution_count": 56
        }
      ],
      "source": [
        "singeltupel=(1,)\n",
        "singeltupel"
      ]
    },
    {
      "cell_type": "markdown",
      "id": "e55347f1",
      "metadata": {
        "id": "e55347f1"
      },
      "source": [
        "# tuple"
      ]
    },
    {
      "cell_type": "code",
      "execution_count": 58,
      "id": "7b35872d",
      "metadata": {
        "id": "7b35872d",
        "outputId": "f1932057-563f-4464-d6b2-9ed200ae180d",
        "colab": {
          "base_uri": "https://localhost:8080/"
        }
      },
      "outputs": [
        {
          "output_type": "execute_result",
          "data": {
            "text/plain": [
              "(1, 2, 3, 4, 5, 2, 3, 4, 5)"
            ]
          },
          "metadata": {},
          "execution_count": 58
        }
      ],
      "source": [
        "singeltupel=singeltupel+(2,3,4,5)\n",
        "singeltupel"
      ]
    },
    {
      "cell_type": "code",
      "execution_count": 59,
      "id": "97c36cfc",
      "metadata": {
        "id": "97c36cfc",
        "outputId": "052dda26-f2dc-41c0-853b-243c861ad6ea",
        "colab": {
          "base_uri": "https://localhost:8080/"
        }
      },
      "outputs": [
        {
          "output_type": "execute_result",
          "data": {
            "text/plain": [
              "139259624196688"
            ]
          },
          "metadata": {},
          "execution_count": 59
        }
      ],
      "source": [
        "id(singeltupel)"
      ]
    },
    {
      "cell_type": "code",
      "execution_count": 60,
      "id": "9eb22422",
      "metadata": {
        "id": "9eb22422",
        "outputId": "ff44acfe-6fcf-4197-9c30-1ba10fac494c",
        "colab": {
          "base_uri": "https://localhost:8080/"
        }
      },
      "outputs": [
        {
          "output_type": "execute_result",
          "data": {
            "text/plain": [
              "['this', 'is', 'list', '1']"
            ]
          },
          "metadata": {},
          "execution_count": 60
        }
      ],
      "source": [
        "tup=(['this','is','list','1'],['this','is','list','2'])\n",
        "tup[0]"
      ]
    },
    {
      "cell_type": "code",
      "execution_count": 61,
      "id": "e12804d4",
      "metadata": {
        "id": "e12804d4"
      },
      "outputs": [],
      "source": [
        "l1,l2=tup"
      ]
    },
    {
      "cell_type": "code",
      "execution_count": 62,
      "id": "6fb00fb8",
      "metadata": {
        "id": "6fb00fb8",
        "outputId": "acdc0559-60f0-43c6-c3af-f96168aeda46",
        "colab": {
          "base_uri": "https://localhost:8080/"
        }
      },
      "outputs": [
        {
          "output_type": "stream",
          "name": "stdout",
          "text": [
            "['this', 'is', 'list', '1'] ['this', 'is', 'list', '2']\n"
          ]
        }
      ],
      "source": [
        "print(l1,l2)"
      ]
    },
    {
      "cell_type": "markdown",
      "id": "d9b30b6b",
      "metadata": {
        "id": "d9b30b6b"
      },
      "source": [
        "# if elif else-for-while-try except-break continue"
      ]
    },
    {
      "cell_type": "markdown",
      "id": "7a2b1a4b",
      "metadata": {
        "id": "7a2b1a4b"
      },
      "source": [
        "# if elif else"
      ]
    },
    {
      "cell_type": "code",
      "execution_count": 63,
      "id": "4c441e28",
      "metadata": {
        "id": "4c441e28",
        "outputId": "b71f7be0-0bb0-44b6-8bd9-0099812bcfb1",
        "colab": {
          "base_uri": "https://localhost:8080/"
        }
      },
      "outputs": [
        {
          "output_type": "stream",
          "name": "stdout",
          "text": [
            "spam\n"
          ]
        }
      ],
      "source": [
        "var='spam'\n",
        "if var=='spam':\n",
        "  print('spam')"
      ]
    },
    {
      "cell_type": "code",
      "execution_count": 64,
      "id": "90b0fc0d",
      "metadata": {
        "id": "90b0fc0d",
        "outputId": "bd4be4c7-e251-4077-d452-303c5fbf7bfd",
        "colab": {
          "base_uri": "https://localhost:8080/"
        }
      },
      "outputs": [
        {
          "output_type": "stream",
          "name": "stdout",
          "text": [
            "ham\n"
          ]
        }
      ],
      "source": [
        "var='ham'\n",
        "if var=='spam':\n",
        "  print('spam')\n",
        "elif var=='ham':\n",
        "  print('ham')"
      ]
    },
    {
      "cell_type": "code",
      "execution_count": 65,
      "id": "ac038e1e",
      "metadata": {
        "id": "ac038e1e",
        "outputId": "53b2fee7-4689-49a6-ce42-3a7226221c18",
        "colab": {
          "base_uri": "https://localhost:8080/"
        }
      },
      "outputs": [
        {
          "output_type": "stream",
          "name": "stdout",
          "text": [
            "how old are you? 12\n",
            "school time\n"
          ]
        }
      ],
      "source": [
        "answ=int(input('how old are you? '))\n",
        "if answ>=18:\n",
        "    print('start university')\n",
        "elif answ<18 and answ>7:\n",
        "    print('school time')\n",
        "else:\n",
        "    print('kindergarten')"
      ]
    },
    {
      "cell_type": "markdown",
      "id": "22ce6226",
      "metadata": {
        "id": "22ce6226"
      },
      "source": [
        "# for"
      ]
    },
    {
      "cell_type": "code",
      "execution_count": 66,
      "id": "79ea2bbd",
      "metadata": {
        "id": "79ea2bbd",
        "outputId": "4a14a595-8529-4247-d060-4a17ef2d11ee",
        "colab": {
          "base_uri": "https://localhost:8080/"
        }
      },
      "outputs": [
        {
          "output_type": "stream",
          "name": "stdout",
          "text": [
            "new\n",
            "new\n",
            "new\n",
            "new\n",
            "new\n"
          ]
        }
      ],
      "source": [
        "numbers=range(0,5)\n",
        "for n in numbers:\n",
        "    print('new')"
      ]
    },
    {
      "cell_type": "code",
      "execution_count": 67,
      "id": "8d1bb124",
      "metadata": {
        "id": "8d1bb124",
        "outputId": "7d8a4895-a8c6-4c9e-c1dc-a37e54e3f24c",
        "colab": {
          "base_uri": "https://localhost:8080/"
        }
      },
      "outputs": [
        {
          "output_type": "stream",
          "name": "stdout",
          "text": [
            "10\n"
          ]
        }
      ],
      "source": [
        "sum=0\n",
        "for n in numbers:\n",
        "    sum+=n\n",
        "print(sum)"
      ]
    },
    {
      "cell_type": "code",
      "execution_count": 68,
      "id": "601d3528",
      "metadata": {
        "id": "601d3528",
        "outputId": "3c1eee34-e9ef-42bd-bffb-48b282024c8e",
        "colab": {
          "base_uri": "https://localhost:8080/"
        }
      },
      "outputs": [
        {
          "output_type": "stream",
          "name": "stdout",
          "text": [
            "0\n",
            "1\n",
            "2\n",
            "3\n",
            "4\n",
            "loop exited normally\n"
          ]
        }
      ],
      "source": [
        "for n in numbers:\n",
        "    if n<6:\n",
        "        print(n)\n",
        "    else:\n",
        "        break\n",
        "else:\n",
        "    print('loop exited normally')"
      ]
    },
    {
      "cell_type": "markdown",
      "id": "b484be52",
      "metadata": {
        "id": "b484be52"
      },
      "source": [
        "# while"
      ]
    },
    {
      "cell_type": "code",
      "execution_count": 69,
      "id": "cc690f85",
      "metadata": {
        "id": "cc690f85",
        "outputId": "e5d6128d-40bb-4eae-fd57-0bcdb7b955ab",
        "colab": {
          "base_uri": "https://localhost:8080/"
        }
      },
      "outputs": [
        {
          "output_type": "stream",
          "name": "stdout",
          "text": [
            "5\n",
            "4\n",
            "3\n",
            "2\n",
            "1\n"
          ]
        }
      ],
      "source": [
        "number=5\n",
        "while number>0:\n",
        "    print(number)\n",
        "    number-=1"
      ]
    },
    {
      "cell_type": "code",
      "execution_count": 70,
      "id": "2b22ae65",
      "metadata": {
        "id": "2b22ae65",
        "outputId": "434a6c5d-4830-40fd-9b3a-226b6fe4ee45",
        "colab": {
          "base_uri": "https://localhost:8080/"
        }
      },
      "outputs": [
        {
          "output_type": "stream",
          "name": "stdout",
          "text": [
            "10\n",
            "8\n",
            "6\n",
            "4\n",
            "2\n"
          ]
        }
      ],
      "source": [
        "number=10\n",
        "while number>0:\n",
        "    if number%2!=0:\n",
        "        number-=1\n",
        "        continue\n",
        "    print(number)\n",
        "    number-=1"
      ]
    },
    {
      "cell_type": "code",
      "execution_count": 71,
      "id": "8bd106c3",
      "metadata": {
        "id": "8bd106c3",
        "outputId": "a3f23bba-7da7-4221-caf2-60e0fbde4a24",
        "colab": {
          "base_uri": "https://localhost:8080/"
        }
      },
      "outputs": [
        {
          "output_type": "stream",
          "name": "stdout",
          "text": [
            "10\n",
            "8\n",
            "6\n",
            "4\n",
            "2\n"
          ]
        }
      ],
      "source": [
        "number=10\n",
        "while number>0:\n",
        "    if number%2!=0:\n",
        "        pass\n",
        "    else:\n",
        "        print(number)\n",
        "    number-=1"
      ]
    },
    {
      "cell_type": "markdown",
      "id": "d78372a3",
      "metadata": {
        "id": "d78372a3"
      },
      "source": [
        "# try except"
      ]
    },
    {
      "cell_type": "code",
      "execution_count": 74,
      "id": "f19b5997",
      "metadata": {
        "id": "f19b5997",
        "outputId": "cc5dce2d-a73e-405f-c50e-68c566ecb7fc",
        "colab": {
          "base_uri": "https://localhost:8080/"
        }
      },
      "outputs": [
        {
          "output_type": "stream",
          "name": "stdout",
          "text": [
            "exception: list index out of range  has occurred\n"
          ]
        }
      ],
      "source": [
        "shoppinglist=['eggs','ham','bacon']\n",
        "try:\n",
        "    print(shoppinglist[4])\n",
        "except IndexError as e:\n",
        "    print('exception: '+str(e)+'  '+'has occurred')\n",
        "else:\n",
        "    print('no exception')\n",
        "finally:\n",
        "    ('no matter!')"
      ]
    },
    {
      "cell_type": "code",
      "execution_count": 75,
      "id": "5e71b487",
      "metadata": {
        "id": "5e71b487",
        "outputId": "65126442-b45c-40a0-c92d-f337d6a23a17",
        "colab": {
          "base_uri": "https://localhost:8080/"
        }
      },
      "outputs": [
        {
          "output_type": "stream",
          "name": "stdout",
          "text": [
            "ham\n",
            "no exception\n"
          ]
        }
      ],
      "source": [
        "shoppinglist=['eggs','ham','bacon']\n",
        "try:\n",
        "    print(shoppinglist[1])\n",
        "except IndexError as e:\n",
        "    print('exception: '+str(e)+'  '+'has occurred')\n",
        "else:\n",
        "    print('no exception')\n",
        "finally:\n",
        "    ('no matter!')"
      ]
    },
    {
      "cell_type": "markdown",
      "id": "32d296b8",
      "metadata": {
        "id": "32d296b8"
      },
      "source": [
        "# function"
      ]
    },
    {
      "cell_type": "code",
      "execution_count": 76,
      "id": "d298d10f",
      "metadata": {
        "id": "d298d10f"
      },
      "outputs": [],
      "source": [
        "def squares(number):\n",
        "    return number*number"
      ]
    },
    {
      "cell_type": "code",
      "execution_count": 77,
      "id": "643a2635",
      "metadata": {
        "id": "643a2635",
        "outputId": "6dd964ca-e469-43e1-897c-fe08a7a06999",
        "colab": {
          "base_uri": "https://localhost:8080/"
        }
      },
      "outputs": [
        {
          "output_type": "execute_result",
          "data": {
            "text/plain": [
              "9"
            ]
          },
          "metadata": {},
          "execution_count": 77
        }
      ],
      "source": [
        "squares(3)"
      ]
    },
    {
      "cell_type": "code",
      "execution_count": 78,
      "id": "584a5f5f",
      "metadata": {
        "id": "584a5f5f"
      },
      "outputs": [],
      "source": [
        "def squ(*args):\n",
        "   squa_args=[]\n",
        "   for item in args:\n",
        "         squa_args.append(item*item)\n",
        "   return squa_args"
      ]
    },
    {
      "cell_type": "code",
      "execution_count": 79,
      "id": "a3d60b96",
      "metadata": {
        "id": "a3d60b96",
        "outputId": "61635bfb-5283-40d2-e774-f0dd3e7cc0a3",
        "colab": {
          "base_uri": "https://localhost:8080/"
        }
      },
      "outputs": [
        {
          "output_type": "execute_result",
          "data": {
            "text/plain": [
              "[1, 4, 9, 16]"
            ]
          },
          "metadata": {},
          "execution_count": 79
        }
      ],
      "source": [
        "squ(1,2,3,4)"
      ]
    },
    {
      "cell_type": "code",
      "execution_count": 80,
      "id": "9fcf6d85",
      "metadata": {
        "id": "9fcf6d85"
      },
      "outputs": [],
      "source": [
        "def person_details(**keywords):\n",
        "    for key,value in keywords.items():\n",
        "        print(key,'->',value)"
      ]
    },
    {
      "cell_type": "code",
      "execution_count": 81,
      "id": "34080f02",
      "metadata": {
        "id": "34080f02",
        "outputId": "102ced1a-04c5-4667-bb21-8319d4b5f979",
        "colab": {
          "base_uri": "https://localhost:8080/"
        }
      },
      "outputs": [
        {
          "output_type": "stream",
          "name": "stdout",
          "text": [
            "name -> Ali\n",
            "job -> Data Scientist\n"
          ]
        }
      ],
      "source": [
        "person_details(name='Ali',job='Data Scientist')"
      ]
    },
    {
      "cell_type": "markdown",
      "id": "cf8ea946",
      "metadata": {
        "id": "cf8ea946"
      },
      "source": [
        "# Recursive Function"
      ]
    },
    {
      "cell_type": "code",
      "execution_count": 82,
      "id": "ddb06748",
      "metadata": {
        "id": "ddb06748"
      },
      "outputs": [],
      "source": [
        "numbers=range(6)\n",
        "def recursive_squares(numbers):\n",
        "    if not numbers:\n",
        "        return []\n",
        "    else:\n",
        "        return[numbers[0]*numbers[0]]+recursive_squares(numbers[1:])"
      ]
    },
    {
      "cell_type": "code",
      "execution_count": 83,
      "id": "42e908ed",
      "metadata": {
        "id": "42e908ed",
        "outputId": "65032986-c6ec-4299-8eb0-28b07401b900",
        "colab": {
          "base_uri": "https://localhost:8080/"
        }
      },
      "outputs": [
        {
          "output_type": "execute_result",
          "data": {
            "text/plain": [
              "[0, 1, 4, 9, 16, 25]"
            ]
          },
          "metadata": {},
          "execution_count": 83
        }
      ],
      "source": [
        "recursive_squares(numbers)"
      ]
    },
    {
      "cell_type": "markdown",
      "id": "35f275c2",
      "metadata": {
        "id": "35f275c2"
      },
      "source": [
        "# lambda function"
      ]
    },
    {
      "cell_type": "code",
      "execution_count": 84,
      "id": "eb155132",
      "metadata": {
        "id": "eb155132",
        "outputId": "d4f2c72e-d566-4360-e95a-f983f8e4d21f",
        "colab": {
          "base_uri": "https://localhost:8080/"
        }
      },
      "outputs": [
        {
          "output_type": "execute_result",
          "data": {
            "text/plain": [
              "25"
            ]
          },
          "metadata": {},
          "execution_count": 84
        }
      ],
      "source": [
        "lambda_sq=lambda n:n*n\n",
        "lambda_sq(5)"
      ]
    },
    {
      "cell_type": "markdown",
      "id": "ac78bf78",
      "metadata": {
        "id": "ac78bf78"
      },
      "source": [
        "# Iterators"
      ]
    },
    {
      "cell_type": "code",
      "execution_count": 85,
      "id": "6eddc7bb",
      "metadata": {
        "id": "6eddc7bb",
        "outputId": "c012349c-f238-464c-b21d-641d24c0d90a",
        "colab": {
          "base_uri": "https://localhost:8080/"
        }
      },
      "outputs": [
        {
          "output_type": "stream",
          "name": "stdout",
          "text": [
            "0\n",
            "1\n",
            "2\n",
            "3\n",
            "4\n",
            "5\n"
          ]
        }
      ],
      "source": [
        "numbers=range(6)\n",
        "for number in numbers:\n",
        "    print (number)"
      ]
    },
    {
      "cell_type": "markdown",
      "id": "57269935",
      "metadata": {
        "id": "57269935"
      },
      "source": [
        "# comprehensions"
      ]
    },
    {
      "cell_type": "code",
      "execution_count": 86,
      "id": "80b755e3",
      "metadata": {
        "id": "80b755e3",
        "outputId": "973f4e86-f747-4093-b876-d702125dbc25",
        "colab": {
          "base_uri": "https://localhost:8080/"
        }
      },
      "outputs": [
        {
          "output_type": "execute_result",
          "data": {
            "text/plain": [
              "[0, 1, 4, 9, 16, 25]"
            ]
          },
          "metadata": {},
          "execution_count": 86
        }
      ],
      "source": [
        "[num*num for num in numbers]"
      ]
    },
    {
      "cell_type": "code",
      "execution_count": 87,
      "id": "df325475",
      "metadata": {
        "id": "df325475",
        "outputId": "edef5a11-e0df-4728-b598-55320ba3dcea",
        "colab": {
          "base_uri": "https://localhost:8080/"
        }
      },
      "outputs": [
        {
          "output_type": "execute_result",
          "data": {
            "text/plain": [
              "[0, 1, 0, 1, 0, 1]"
            ]
          },
          "metadata": {},
          "execution_count": 87
        }
      ],
      "source": [
        "[num%2 for num in numbers]"
      ]
    },
    {
      "cell_type": "code",
      "execution_count": 88,
      "id": "c2feed1c",
      "metadata": {
        "id": "c2feed1c",
        "outputId": "743fb5fd-e696-4795-b784-e42406bd9c97",
        "colab": {
          "base_uri": "https://localhost:8080/"
        }
      },
      "outputs": [
        {
          "output_type": "execute_result",
          "data": {
            "text/plain": [
              "{0, 1}"
            ]
          },
          "metadata": {},
          "execution_count": 88
        }
      ],
      "source": [
        "set(num%2 for num in numbers)  #There is no repetition"
      ]
    },
    {
      "cell_type": "code",
      "execution_count": null,
      "id": "4b22627a",
      "metadata": {
        "id": "4b22627a",
        "outputId": "ca5ce777-b435-429b-a68a-647c1b7dd0b2"
      },
      "outputs": [
        {
          "data": {
            "text/plain": [
              "{0: 0, 1: 1, 2: 4, 3: 9, 4: 16, 5: 25}"
            ]
          },
          "execution_count": 82,
          "metadata": {},
          "output_type": "execute_result"
        }
      ],
      "source": [
        "{num:num*num for num in numbers}"
      ]
    },
    {
      "cell_type": "code",
      "execution_count": null,
      "id": "a7eb50a4",
      "metadata": {
        "id": "a7eb50a4",
        "outputId": "69b37725-7028-4fac-b4f5-b4fd34405839"
      },
      "outputs": [
        {
          "data": {
            "text/plain": [
              "[{'number': 0, 'square': 0, 'type': 'even'},\n",
              " {'number': 1, 'square': 1, 'type': 'odd'},\n",
              " {'number': 2, 'square': 4, 'type': 'even'},\n",
              " {'number': 3, 'square': 9, 'type': 'odd'},\n",
              " {'number': 4, 'square': 16, 'type': 'even'},\n",
              " {'number': 5, 'square': 25, 'type': 'odd'}]"
            ]
          },
          "execution_count": 84,
          "metadata": {},
          "output_type": "execute_result"
        }
      ],
      "source": [
        "[{'number':num,'square':num*num,'type':'even' if num%2==0 else 'odd'}for num in numbers]"
      ]
    },
    {
      "cell_type": "code",
      "execution_count": 89,
      "id": "4435a4af",
      "metadata": {
        "id": "4435a4af",
        "outputId": "f67af5e8-c07a-46d5-e417-b44d533711e7",
        "colab": {
          "base_uri": "https://localhost:8080/",
          "height": 35
        }
      },
      "outputs": [
        {
          "output_type": "execute_result",
          "data": {
            "text/plain": [
              "'python is the best!'"
            ],
            "application/vnd.google.colaboratory.intrinsic+json": {
              "type": "string"
            }
          },
          "metadata": {},
          "execution_count": 89
        }
      ],
      "source": [
        "csv_string='python,is,the,best!'\n",
        "a=(item for item in csv_string.split(','))\n",
        "a=' '.join(a)\n",
        "a"
      ]
    },
    {
      "cell_type": "markdown",
      "id": "3340a7e6",
      "metadata": {
        "id": "3340a7e6"
      },
      "source": [
        "# Generators"
      ]
    },
    {
      "cell_type": "code",
      "execution_count": 90,
      "id": "56df36fd",
      "metadata": {
        "id": "56df36fd"
      },
      "outputs": [],
      "source": [
        "numbers = [1, 2, 3, 4, 5]"
      ]
    },
    {
      "cell_type": "code",
      "execution_count": 92,
      "id": "36d8fdd4",
      "metadata": {
        "id": "36d8fdd4"
      },
      "outputs": [],
      "source": [
        "def generate_squares(numbers):\n",
        "    for number in numbers:\n",
        "         yield number*number"
      ]
    },
    {
      "cell_type": "code",
      "execution_count": 93,
      "id": "f2df4cbd",
      "metadata": {
        "id": "f2df4cbd",
        "outputId": "6826a7c3-6012-48b5-dd1f-f44213650a8a",
        "colab": {
          "base_uri": "https://localhost:8080/"
        }
      },
      "outputs": [
        {
          "output_type": "stream",
          "name": "stdout",
          "text": [
            "1\n",
            "4\n",
            "9\n",
            "16\n",
            "25\n"
          ]
        }
      ],
      "source": [
        "gen_obj = generate_squares(numbers)\n",
        "gen_obj\n",
        "for item in gen_obj:\n",
        "    print (item)"
      ]
    },
    {
      "cell_type": "markdown",
      "id": "eb0bad07",
      "metadata": {
        "id": "eb0bad07"
      },
      "source": [
        "# class"
      ]
    },
    {
      "cell_type": "code",
      "execution_count": 98,
      "id": "8cac7869",
      "metadata": {
        "id": "8cac7869"
      },
      "outputs": [],
      "source": [
        "class human(object):\n",
        "    species='human'\n",
        "    def __init__ (self,name):\n",
        "        self.name=name\n",
        "        self.attributes=[]\n",
        "\n",
        "    def add_attributes(self,attributes):\n",
        "        self.attributes.extend(attributes)\n",
        "        if type(attributes)==list:\n",
        "            pass\n",
        "        else:\n",
        "            self.attributes.append(attributes)\n",
        "    def __str__(self):\n",
        "        return self.name+\" is  type of \"+self.species+\" and has attributes\"+str(self.attributes)\n"
      ]
    },
    {
      "cell_type": "code",
      "execution_count": 99,
      "id": "74736688",
      "metadata": {
        "id": "74736688",
        "outputId": "a0dedc64-4ef4-4c36-afc1-84e9928dd86e",
        "colab": {
          "base_uri": "https://localhost:8080/",
          "height": 35
        }
      },
      "outputs": [
        {
          "output_type": "execute_result",
          "data": {
            "text/plain": [
              "\"good person is  type of human and has attributes[['Honesty', 'Responsibility', 'Kindness']]\""
            ],
            "application/vnd.google.colaboratory.intrinsic+json": {
              "type": "string"
            }
          },
          "metadata": {},
          "execution_count": 99
        }
      ],
      "source": [
        "a1=human('good person')\n",
        "a1.add_attributes(['Honesty','Responsibility','Kindness'])\n",
        "str(a1)"
      ]
    },
    {
      "cell_type": "code",
      "execution_count": null,
      "id": "e46e27a5",
      "metadata": {
        "id": "e46e27a5"
      },
      "outputs": [],
      "source": []
    }
  ],
  "metadata": {
    "kernelspec": {
      "display_name": "Python 3",
      "language": "python",
      "name": "python3"
    },
    "language_info": {
      "codemirror_mode": {
        "name": "ipython",
        "version": 3
      },
      "file_extension": ".py",
      "mimetype": "text/x-python",
      "name": "python",
      "nbconvert_exporter": "python",
      "pygments_lexer": "ipython3",
      "version": "3.8.8"
    },
    "colab": {
      "provenance": []
    }
  },
  "nbformat": 4,
  "nbformat_minor": 5
}